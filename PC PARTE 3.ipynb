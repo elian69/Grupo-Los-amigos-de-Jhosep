{
 "cells": [
  {
   "cell_type": "code",
   "execution_count": null,
   "id": "deb29fee",
   "metadata": {},
   "outputs": [],
   "source": [
    "gen_data=[] #se crea una lista la cual se guardaran las categorias y descripcion\n",
    "for i in area_genes:#\n",
    "    gen_lista=[] # se crea una lista vacia para las categorias y descripcion\n",
    "    driver=i\n",
    "    if i == None:\n",
    "        gen_lista.append(None) #si es que encuentra None en la busqueda que lo guarde en la lista gen_lista\n",
    "    else:\n",
    "        gen_lista.append(driver.find(\"span\",{\"class\":\"gc-category\"}).text)#extrae la etiqueta span todas las categorias\n",
    "        gen_lista.append(driver.find_all(\"span\",{\"class\":\"aliasMainName\"})[1].text)#extrae de la etiqueta span en class, todas las descripciones\n",
    "    gen_data.append(gen_lista)# se guarda en la lista gen_data\n",
    "print(gen_data) #por ultimo se guardara en esta lista cada categoria y descripcion de cada gen \n"
   ]
  },
  {
   "cell_type": "code",
   "execution_count": null,
   "id": "d5a4b225",
   "metadata": {},
   "outputs": [],
   "source": [
    "lista_adn=[]#se crea una lista la cual se guardaran rna, microarrage y sage\n",
    "for j in area_genes:\n",
    "    lista=[]\n",
    "    soup=j\n",
    "    if j == None:\n",
    "        lista.append(None)#si en la busqueda de cada gen sale none guardalo en la lista\n",
    "    else:\n",
    "        titulo=soup.find_all(\"area\",{\"title\":re.compile('.*Breast.*')})#recompila en la etiqueta area; title solo especificamente los numeros de la columna rna,micro  y sage\n",
    "        lista.append(titulo[0][\"title\"].split(\",\")[0]+', '+titulo[3][\"title\"].split(\",\")[0])#de la columna de rnaseq extraeremos los 2 numeros\n",
    "        lista.append(titulo[1][\"title\"].split(\",\")[0])# de la columna microarrage extraeremos el numero pedido\n",
    "        lista.append(titulo[2][\"title\"].split(\",\")[0])# de la columna sage extraeremos el numero pedido\n",
    "    lista_adn.append(lista)# se añaderia en lista de las tres columnas\n",
    "print(lista_adn)"
   ]
  },
  {
   "cell_type": "code",
   "execution_count": null,
   "id": "37aa41ce",
   "metadata": {},
   "outputs": [],
   "source": [
    "proyecto=pd.DataFrame(gen_data,columns=[\"Category\",\"Name of the gene\"])#se crea un dataframe con los datos de la columna de categoria y descripcion\n",
    "proyecto"
   ]
  }
 ],
 "metadata": {
  "kernelspec": {
   "display_name": "Python 3",
   "language": "python",
   "name": "python3"
  },
  "language_info": {
   "codemirror_mode": {
    "name": "ipython",
    "version": 3
   },
   "file_extension": ".py",
   "mimetype": "text/x-python",
   "name": "python",
   "nbconvert_exporter": "python",
   "pygments_lexer": "ipython3",
   "version": "3.8.8"
  }
 },
 "nbformat": 4,
 "nbformat_minor": 5
}
