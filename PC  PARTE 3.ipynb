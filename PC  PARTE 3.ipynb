{
 "cells": [
  {
   "cell_type": "markdown",
   "id": "bf66b197",
   "metadata": {},
   "source": [
    "**PRACTICA CALIFICADA**"
   ]
  },
  {
   "cell_type": "code",
   "execution_count": 124,
   "id": "368141b3",
   "metadata": {},
   "outputs": [
    {
     "data": {
      "text/html": [
       "<div>\n",
       "<style scoped>\n",
       "    .dataframe tbody tr th:only-of-type {\n",
       "        vertical-align: middle;\n",
       "    }\n",
       "\n",
       "    .dataframe tbody tr th {\n",
       "        vertical-align: top;\n",
       "    }\n",
       "\n",
       "    .dataframe thead th {\n",
       "        text-align: right;\n",
       "    }\n",
       "</style>\n",
       "<table border=\"1\" class=\"dataframe\">\n",
       "  <thead>\n",
       "    <tr style=\"text-align: right;\">\n",
       "      <th></th>\n",
       "      <th>Gen Abrev</th>\n",
       "      <th>Category</th>\n",
       "      <th>Name of the gene</th>\n",
       "      <th>Inicio</th>\n",
       "      <th>Final</th>\n",
       "      <th>RNASeq</th>\n",
       "      <th>Microarray</th>\n",
       "      <th>SAGE</th>\n",
       "    </tr>\n",
       "  </thead>\n",
       "  <tbody>\n",
       "    <tr>\n",
       "      <th>0</th>\n",
       "      <td>TRNAS-GGA</td>\n",
       "      <td>NaN</td>\n",
       "      <td>NaN</td>\n",
       "      <td>32091689</td>\n",
       "      <td>32091761</td>\n",
       "      <td>NaN</td>\n",
       "      <td>NaN</td>\n",
       "      <td>NaN</td>\n",
       "    </tr>\n",
       "    <tr>\n",
       "      <th>1</th>\n",
       "      <td>LOC102173449</td>\n",
       "      <td>NaN</td>\n",
       "      <td>NaN</td>\n",
       "      <td>32837131</td>\n",
       "      <td>32838076</td>\n",
       "      <td>NaN</td>\n",
       "      <td>NaN</td>\n",
       "      <td>NaN</td>\n",
       "    </tr>\n",
       "    <tr>\n",
       "      <th>2</th>\n",
       "      <td>LOC102169333</td>\n",
       "      <td>NaN</td>\n",
       "      <td>NaN</td>\n",
       "      <td>33089112</td>\n",
       "      <td>33090132</td>\n",
       "      <td>NaN</td>\n",
       "      <td>NaN</td>\n",
       "      <td>NaN</td>\n",
       "    </tr>\n",
       "    <tr>\n",
       "      <th>3</th>\n",
       "      <td>LOC108636757</td>\n",
       "      <td>NaN</td>\n",
       "      <td>NaN</td>\n",
       "      <td>33764252</td>\n",
       "      <td>33768221</td>\n",
       "      <td>NaN</td>\n",
       "      <td>NaN</td>\n",
       "      <td>NaN</td>\n",
       "    </tr>\n",
       "    <tr>\n",
       "      <th>4</th>\n",
       "      <td>LOC102187712</td>\n",
       "      <td>NaN</td>\n",
       "      <td>NaN</td>\n",
       "      <td>33810174</td>\n",
       "      <td>33811741</td>\n",
       "      <td>NaN</td>\n",
       "      <td>NaN</td>\n",
       "      <td>NaN</td>\n",
       "    </tr>\n",
       "    <tr>\n",
       "      <th>5</th>\n",
       "      <td>VGLL3</td>\n",
       "      <td>NaN</td>\n",
       "      <td>NaN</td>\n",
       "      <td>33882149</td>\n",
       "      <td>33934641</td>\n",
       "      <td>NaN</td>\n",
       "      <td>NaN</td>\n",
       "      <td>NaN</td>\n",
       "    </tr>\n",
       "    <tr>\n",
       "      <th>6</th>\n",
       "      <td>CHMP2B</td>\n",
       "      <td>NaN</td>\n",
       "      <td>NaN</td>\n",
       "      <td>34199383</td>\n",
       "      <td>34231630</td>\n",
       "      <td>NaN</td>\n",
       "      <td>NaN</td>\n",
       "      <td>NaN</td>\n",
       "    </tr>\n",
       "  </tbody>\n",
       "</table>\n",
       "</div>"
      ],
      "text/plain": [
       "      Gen Abrev  Category  Name of the gene    Inicio     Final  RNASeq  \\\n",
       "0     TRNAS-GGA       NaN               NaN  32091689  32091761     NaN   \n",
       "1  LOC102173449       NaN               NaN  32837131  32838076     NaN   \n",
       "2  LOC102169333       NaN               NaN  33089112  33090132     NaN   \n",
       "3  LOC108636757       NaN               NaN  33764252  33768221     NaN   \n",
       "4  LOC102187712       NaN               NaN  33810174  33811741     NaN   \n",
       "5         VGLL3       NaN               NaN  33882149  33934641     NaN   \n",
       "6        CHMP2B       NaN               NaN  34199383  34231630     NaN   \n",
       "\n",
       "   Microarray  SAGE  \n",
       "0         NaN   NaN  \n",
       "1         NaN   NaN  \n",
       "2         NaN   NaN  \n",
       "3         NaN   NaN  \n",
       "4         NaN   NaN  \n",
       "5         NaN   NaN  \n",
       "6         NaN   NaN  "
      ]
     },
     "execution_count": 124,
     "metadata": {},
     "output_type": "execute_result"
    }
   ],
   "source": [
    "import requests\n",
    "from bs4 import BeautifulSoup as b\n",
    "import pandas as pd \n",
    "import numpy as np\n",
    "from selenium import webdriver\n",
    "import re \n",
    "from selenium.webdriver.common.action_chains import ActionChains\n",
    "\n",
    "genes= pd.read_excel(\"CHGenesOrdenadosConVecinos 2.xlsx\",usecols=[\"Gen Abrev\",\"Category\",\"Name of the gene\",\"Inicio\",\n",
    "                                                                   \"Final\",\"RNASeq\",\"Microarray\",\"SAGE\"],skiprows=1)\n",
    "#Solo usaremos 7 filas debido a que nuestras pcs estan demorando en procesar, de todas maneras no influye en los resultados.\n",
    "genes.head(9)#"
   ]
  },
  {
   "cell_type": "code",
   "execution_count": 125,
   "id": "8f3fff35",
   "metadata": {},
   "outputs": [
    {
     "data": {
      "text/plain": [
       "['TRNAS-GGA',\n",
       " 'LOC102173449',\n",
       " 'LOC102169333',\n",
       " 'LOC108636757',\n",
       " 'LOC102187712',\n",
       " 'VGLL3',\n",
       " 'CHMP2B']"
      ]
     },
     "execution_count": 125,
     "metadata": {},
     "output_type": "execute_result"
    }
   ],
   "source": [
    "virus_t = genes[\"Gen Abrev\"].tolist()#se crea una variable para extraer la columna de GEN ABREV en una lista\n",
    "virus_t"
   ]
  },
  {
   "cell_type": "code",
   "execution_count": 126,
   "id": "6cb53a65",
   "metadata": {},
   "outputs": [
    {
     "name": "stdout",
     "output_type": "stream",
     "text": [
      "['https://www.genecards.org/cgi-bin/carddisp.pl?gene=TRNAS-GGA#expression', 'https://www.genecards.org/cgi-bin/carddisp.pl?gene=LOC102173449#expression', 'https://www.genecards.org/cgi-bin/carddisp.pl?gene=LOC102169333#expression', 'https://www.genecards.org/cgi-bin/carddisp.pl?gene=LOC108636757#expression', 'https://www.genecards.org/cgi-bin/carddisp.pl?gene=LOC102187712#expression', 'https://www.genecards.org/cgi-bin/carddisp.pl?gene=VGLL3#expression', 'https://www.genecards.org/cgi-bin/carddisp.pl?gene=CHMP2B#expression']\n"
     ]
    }
   ],
   "source": [
    "virus_links=[] #se crea una lista vacía con links de los genes \n",
    "for virus in virus_t: \n",
    "    url = (f\"https://www.genecards.org/cgi-bin/carddisp.pl?gene={virus}#expression\")\n",
    "    virus_links.append(url) #se crea un ciclo for para guardar en una lista los url de cada gen\n",
    "print(virus_links)"
   ]
  },
  {
   "cell_type": "code",
   "execution_count": 127,
   "id": "c3d734fa",
   "metadata": {
    "scrolled": true
   },
   "outputs": [],
   "source": [
    "driver = webdriver.Chrome(executable_path='./chromedriver.exe') \n",
    "area_genes=[]\n",
    "for i in virus_links:\n",
    "    driver.get(i)\n",
    "    try:\n",
    "        search = driver.find_element_by_id(\"expressionImage\") # va a buscar el elmento id expressionImage \n",
    "        soup = b(driver.page_source,\"html.parser\")# se extrae el código de la fuente \n",
    "        while soup.find(\"area\")==None:# encuentra la etiqueta del area\n",
    "            driver.get(i)\n",
    "            soup = b(driver.page_source,\"html.parser\")\n",
    "        area_genes.append(soup)\n",
    "    except:\n",
    "        area_genes.append(None)# si encuentra None lo guarda en la lista area_genes y continua\n",
    "        continue\n",
    "driver.quit()\n"
   ]
  },
  {
   "cell_type": "code",
   "execution_count": 130,
   "id": "e9d2997d",
   "metadata": {},
   "outputs": [
    {
     "name": "stdout",
     "output_type": "stream",
     "text": [
      "[[None], [None], [None], [None], [None], ['(Protein Coding)', 'Vestigial Like Family Member 3'], ['(Protein Coding)', 'Charged Multivesicular Body Protein 2B']]\n"
     ]
    }
   ],
   "source": [
    "gen_data=[] #se crea una lista la cual se guardaran las categorias y descripcion\n",
    "for i in area_genes:#\n",
    "    gen_lista=[] # se crea una lista vacia para las categorias y descripcion\n",
    "    driver=i\n",
    "    if i == None:\n",
    "        gen_lista.append(None) #si es que encuentra None en la busqueda que lo guarde en la lista gen_lista\n",
    "    else:\n",
    "        gen_lista.append(driver.find(\"span\",{\"class\":\"gc-category\"}).text)#extrae la etiqueta span todas las categorias\n",
    "        gen_lista.append(driver.find_all(\"span\",{\"class\":\"aliasMainName\"})[1].text)#extrae de la etiqueta span en class, todas las descripciones\n",
    "    gen_data.append(gen_lista)# se guarda en la lista gen_data\n",
    "print(gen_data) #por ultimo se guardara en esta lista cada categoria y descripcion de cada gen \n"
   ]
  },
  {
   "cell_type": "code",
   "execution_count": 129,
   "id": "8bdb6a34",
   "metadata": {},
   "outputs": [
    {
     "name": "stdout",
     "output_type": "stream",
     "text": [
      "[[None], [None], [None], [None], [None], ['25, 44', 'Breast - No Data', '0'], ['42, 44', 'Breast - No Data', '21']]\n"
     ]
    }
   ],
   "source": [
    "lista_adn=[]#se crea una lista la cual se guardaran rna, microarrage y sage\n",
    "for j in area_genes:\n",
    "    lista=[]\n",
    "    soup=j\n",
    "    if j == None:\n",
    "        lista.append(None)#si en la busqueda de cada gen sale none guardalo en la lista\n",
    "    else:\n",
    "        titulo=soup.find_all(\"area\",{\"title\":re.compile('.*Breast.*')})#recompila en la etiqueta area; title solo especificamente los numeros de la columna rna,micro  y sage\n",
    "        lista.append(titulo[0][\"title\"].split(\",\")[0]+', '+titulo[3][\"title\"].split(\",\")[0])#de la columna de rnaseq extraeremos los 2 numeros\n",
    "        lista.append(titulo[1][\"title\"].split(\",\")[0])# de la columna microarrage extraeremos el numero pedido\n",
    "        lista.append(titulo[2][\"title\"].split(\",\")[0])# de la columna sage extraeremos el numero pedido\n",
    "    lista_adn.append(lista)# se añaderia en lista de las tres columnas\n",
    "print(lista_adn)"
   ]
  },
  {
   "cell_type": "code",
   "execution_count": 131,
   "id": "c5ad799c",
   "metadata": {},
   "outputs": [
    {
     "data": {
      "text/html": [
       "<div>\n",
       "<style scoped>\n",
       "    .dataframe tbody tr th:only-of-type {\n",
       "        vertical-align: middle;\n",
       "    }\n",
       "\n",
       "    .dataframe tbody tr th {\n",
       "        vertical-align: top;\n",
       "    }\n",
       "\n",
       "    .dataframe thead th {\n",
       "        text-align: right;\n",
       "    }\n",
       "</style>\n",
       "<table border=\"1\" class=\"dataframe\">\n",
       "  <thead>\n",
       "    <tr style=\"text-align: right;\">\n",
       "      <th></th>\n",
       "      <th>Category</th>\n",
       "      <th>Name of the gene</th>\n",
       "    </tr>\n",
       "  </thead>\n",
       "  <tbody>\n",
       "    <tr>\n",
       "      <th>0</th>\n",
       "      <td>None</td>\n",
       "      <td>None</td>\n",
       "    </tr>\n",
       "    <tr>\n",
       "      <th>1</th>\n",
       "      <td>None</td>\n",
       "      <td>None</td>\n",
       "    </tr>\n",
       "    <tr>\n",
       "      <th>2</th>\n",
       "      <td>None</td>\n",
       "      <td>None</td>\n",
       "    </tr>\n",
       "    <tr>\n",
       "      <th>3</th>\n",
       "      <td>None</td>\n",
       "      <td>None</td>\n",
       "    </tr>\n",
       "    <tr>\n",
       "      <th>4</th>\n",
       "      <td>None</td>\n",
       "      <td>None</td>\n",
       "    </tr>\n",
       "    <tr>\n",
       "      <th>5</th>\n",
       "      <td>(Protein Coding)</td>\n",
       "      <td>Vestigial Like Family Member 3</td>\n",
       "    </tr>\n",
       "    <tr>\n",
       "      <th>6</th>\n",
       "      <td>(Protein Coding)</td>\n",
       "      <td>Charged Multivesicular Body Protein 2B</td>\n",
       "    </tr>\n",
       "  </tbody>\n",
       "</table>\n",
       "</div>"
      ],
      "text/plain": [
       "           Category                        Name of the gene\n",
       "0              None                                    None\n",
       "1              None                                    None\n",
       "2              None                                    None\n",
       "3              None                                    None\n",
       "4              None                                    None\n",
       "5  (Protein Coding)          Vestigial Like Family Member 3\n",
       "6  (Protein Coding)  Charged Multivesicular Body Protein 2B"
      ]
     },
     "execution_count": 131,
     "metadata": {},
     "output_type": "execute_result"
    }
   ],
   "source": [
    "proyecto=pd.DataFrame(gen_data,columns=[\"Category\",\"Name of the gene\"])#se crea un dataframe con los datos de la columna de categoria y descripcion\n",
    "proyecto"
   ]
  }
 ],
 "metadata": {
  "kernelspec": {
   "display_name": "Python 3",
   "language": "python",
   "name": "python3"
  },
  "language_info": {
   "codemirror_mode": {
    "name": "ipython",
    "version": 3
   },
   "file_extension": ".py",
   "mimetype": "text/x-python",
   "name": "python",
   "nbconvert_exporter": "python",
   "pygments_lexer": "ipython3",
   "version": "3.8.8"
  }
 },
 "nbformat": 4,
 "nbformat_minor": 5
}
